{
 "cells": [
  {
   "cell_type": "code",
   "execution_count": 1,
   "metadata": {},
   "outputs": [],
   "source": [
    "import cv2\n",
    "import os"
   ]
  },
  {
   "cell_type": "code",
   "execution_count": 2,
   "metadata": {},
   "outputs": [
    {
     "name": "stdout",
     "output_type": "stream",
     "text": [
      "['.ipynb_checkpoints', 'cat1.jpg', 'cat2.jpg', 'cat3.jpg', 'haarcascade_frontalcatface.xml', 'Kedi_Yuz_Tanima.ipynb']\n"
     ]
    }
   ],
   "source": [
    "#klasör içerisindeki dosyalar\n",
    "files=os.listdir()\n",
    "print(files)"
   ]
  },
  {
   "cell_type": "code",
   "execution_count": 3,
   "metadata": {},
   "outputs": [
    {
     "name": "stdout",
     "output_type": "stream",
     "text": [
      "['cat1.jpg', 'cat2.jpg', 'cat3.jpg']\n"
     ]
    }
   ],
   "source": [
    "#klasör içerisindeki resimlerin okunması\n",
    "#kedi resimlerini içeren liste oluşturulur\n",
    "img_path=[]\n",
    "for f in files: # her bir jpg uzantılı dosya alınır ve listeye eklenir\n",
    "    if f.endswith(\".jpg\"):\n",
    "        img_path.append(f)\n",
    "print(img_path)"
   ]
  },
  {
   "cell_type": "code",
   "execution_count": 4,
   "metadata": {},
   "outputs": [
    {
     "name": "stdout",
     "output_type": "stream",
     "text": [
      "cat1.jpg\n",
      "cat2.jpg\n",
      "cat3.jpg\n"
     ]
    }
   ],
   "source": [
    "for j in img_path:\n",
    "    print(j)\n",
    "    image=cv2.imread(j)\n",
    "    gray=cv2.cvtColor(image,cv2.COLOR_BGR2GRAY)\n",
    "    \n",
    "    detector=cv2.CascadeClassifier(\"haarcascade_frontalcatface.xml\")\n",
    "    rects=detector.detectMultiScale(gray,scaleFactor=1.045,minNeighbors=2)\n",
    "    \n",
    "    for (i,(x,y,w,h))in enumerate(rects):\n",
    "        cv2.rectangle(image,(x,y),(x+w,y+h),(0,255,255),2)\n",
    "        cv2.putText(image,\"Kedi {}\".format(i+1),(x,y-10),cv2.FONT_HERSHEY_SIMPLEX,0.55,(0,255,255),2)\n",
    "    \n",
    "    cv2.imshow(j,image)\n",
    "    if cv2.waitKey(0)&0xFF ==ord(\"q\"): continue"
   ]
  },
  {
   "cell_type": "code",
   "execution_count": null,
   "metadata": {},
   "outputs": [],
   "source": []
  }
 ],
 "metadata": {
  "kernelspec": {
   "display_name": "Python 3",
   "language": "python",
   "name": "python3"
  },
  "language_info": {
   "codemirror_mode": {
    "name": "ipython",
    "version": 3
   },
   "file_extension": ".py",
   "mimetype": "text/x-python",
   "name": "python",
   "nbconvert_exporter": "python",
   "pygments_lexer": "ipython3",
   "version": "3.7.3"
  }
 },
 "nbformat": 4,
 "nbformat_minor": 2
}
